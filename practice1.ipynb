{
 "cells": [
  {
   "cell_type": "markdown",
   "id": "32621340",
   "metadata": {},
   "source": [
    "# C.Vaithishwaran\n",
    " Pondicherry Engineering College\n",
    "# Practice1"
   ]
  },
  {
   "cell_type": "raw",
   "id": "2cd4388c",
   "metadata": {},
   "source": [
    "1. A company decided to give bonus of 5% to employee if his/her year of service is\n",
    "more than 5 years. Ask user for their salary and year of service and print the net\n",
    "bonus amount."
   ]
  },
  {
   "cell_type": "code",
   "execution_count": 19,
   "id": "d5176f3e",
   "metadata": {},
   "outputs": [
    {
     "name": "stdout",
     "output_type": "stream",
     "text": [
      "Enter your salary: 20000\n",
      "Enter your year of service: 8\n",
      "The bonus amount is 1000.0\n",
      "1000.0\n"
     ]
    }
   ],
   "source": [
    "sal=int(input('Enter your salary: '))\n",
    "s=int(input('Enter your year of service: '))\n",
    "e=5\n",
    "if s > e:\n",
    "    bonus=(sal*.05)\n",
    "    print('The bonus amount is',bonus)\n",
    "    print(bonus)\n",
    "else:\n",
    "    print('your year of service is less than 5 years')"
   ]
  },
  {
   "cell_type": "raw",
   "id": "ccb7ab90",
   "metadata": {},
   "source": [
    "2. A school has following rules for grading system:\n",
    "a. Below 25 - F\n",
    "b. 25 to 45 - E\n",
    "c. 45 to 50 - D\n",
    "d. 50 to 60 - C\n",
    "e. 60 to 80 - B\n",
    "f. Above 80 - A\n",
    "Ask user to enter marks and print the corresponding grade"
   ]
  },
  {
   "cell_type": "code",
   "execution_count": 17,
   "id": "1f4e6e9b",
   "metadata": {},
   "outputs": [
    {
     "name": "stdout",
     "output_type": "stream",
     "text": [
      "Enter the mark:88\n",
      "The grade is A\n"
     ]
    }
   ],
   "source": [
    "m=int(input('Enter the mark:'))\n",
    "if m<25:\n",
    "    print('The grade is F')\n",
    "elif m<=45:\n",
    "          print('The grade is E')\n",
    "elif m<=50:\n",
    "    print('The grade is D')\n",
    "elif m<=60:\n",
    "    print('The grade is C')\n",
    "elif m<=80:\n",
    "    print('The grade is B')\n",
    "else:\n",
    "    print('The grade is A')\n",
    "                "
   ]
  },
  {
   "cell_type": "raw",
   "id": "eb7f2d9a",
   "metadata": {},
   "source": [
    "3. A student will not be allowed to sit in exam if his/her attendence is less than 75%.\n",
    "Take following input from user\n",
    "Number of classes held\n",
    "Number of classes attended.\n",
    "And print\n",
    "percentage of class attended\n",
    "Is student is allowed to sit in exam or not."
   ]
  },
  {
   "cell_type": "code",
   "execution_count": 16,
   "id": "99e6c7d4",
   "metadata": {},
   "outputs": [
    {
     "name": "stdout",
     "output_type": "stream",
     "text": [
      "Number of classes held:100\n",
      "Number of classes attended:100\n",
      "Percentage of class attended 100 %\n",
      "Student is allowed to sit in exam\n"
     ]
    }
   ],
   "source": [
    "classh=int(input('Number of classes held:'))\n",
    "classa=int(input('Number of classes attended:'))\n",
    "per=int((classa/classh)*100)\n",
    "print('Percentage of class attended',per,'%')\n",
    "if per<75:\n",
    "    print('Student is not allowed to sit in exam')\n",
    "else:\n",
    "        print('Student is allowed to sit in exam')\n",
    "    "
   ]
  },
  {
   "cell_type": "raw",
   "id": "ecfb59df",
   "metadata": {},
   "source": [
    "4. Ask user to enter age, sex ( M or F ), marital status ( Y or N ) and then using\n",
    "following rules print their place of service.\n",
    "if employee is female, then she will work only in urban areas.\n",
    "if employee is a male and age is in between 20 to 40 then he may work in anywhere\n",
    "if employee is male and age is in between 40 t0 60 then he will work in urban areas\n",
    "only.\n",
    "And any other input of age should print \"ERROR\""
   ]
  },
  {
   "cell_type": "code",
   "execution_count": 23,
   "id": "aba8b226",
   "metadata": {},
   "outputs": [
    {
     "name": "stdout",
     "output_type": "stream",
     "text": [
      "Enter age:56\n",
      "Enter sex (M or F):f\n",
      "marital status (Y or N:)n\n",
      "Place of service:Urban areas\n"
     ]
    }
   ],
   "source": [
    "a=int(input('Enter age:'))\n",
    "if type(a)!=int:\n",
    "    print('ERROR')\n",
    "else:\n",
    "    s=input('Enter sex (M or F):')\n",
    "    s=s.upper()\n",
    "    m=input('marital status (Y or N:)')\n",
    "    m=m.upper()\n",
    "    if (s=='F' or (s=='M' and a>=40 and a<=60)):\n",
    "        print('Place of service:Urban areas')\n",
    "    elif(s=='M' and  a>=20 and a<=40):\n",
    "        print('Place of service:Anywhere')"
   ]
  },
  {
   "cell_type": "raw",
   "id": "bb507727",
   "metadata": {},
   "source": [
    "5. Take 10 integers from keyboard using loop and print their average value on the\n",
    "screen."
   ]
  },
  {
   "cell_type": "code",
   "execution_count": 44,
   "id": "2289dd3a",
   "metadata": {},
   "outputs": [
    {
     "name": "stdout",
     "output_type": "stream",
     "text": [
      "('Enter the number', 1)5\n",
      "('Enter the number', 2)5\n",
      "('Enter the number', 3)5\n",
      "('Enter the number', 4)5\n",
      "('Enter the number', 5)5\n",
      "('Enter the number', 6)5\n",
      "('Enter the number', 7)5\n",
      "('Enter the number', 8)5\n",
      "('Enter the number', 9)5\n",
      "('Enter the number', 10)5\n",
      "Average value 5.0\n"
     ]
    }
   ],
   "source": [
    "s=0\n",
    "for i in range (10):\n",
    "    n=int(input(('Enter the number',i+1)))\n",
    "    s=s+n\n",
    "a=s/10\n",
    "print('Average value',a)\n",
    "\n",
    "    \n"
   ]
  },
  {
   "cell_type": "raw",
   "id": "31ac0887",
   "metadata": {},
   "source": [
    "6. Write a program to calculate factorial of a number."
   ]
  },
  {
   "cell_type": "code",
   "execution_count": 62,
   "id": "ed1edceb",
   "metadata": {},
   "outputs": [
    {
     "name": "stdout",
     "output_type": "stream",
     "text": [
      "Enter the number:4\n",
      "The factorial of the number is 24\n"
     ]
    }
   ],
   "source": [
    "import math\n",
    "n=int(input('Enter the number:'))\n",
    "print('The factorial of the number is',math.factorial(n))"
   ]
  },
  {
   "cell_type": "raw",
   "id": "8ee3e854",
   "metadata": {},
   "source": [
    "7. Take integer inputs from user until he/she presses q ( Ask to press q to quit after\n",
    "every integer input ). Print average and product of all numbers."
   ]
  },
  {
   "cell_type": "code",
   "execution_count": 57,
   "id": "935e769b",
   "metadata": {},
   "outputs": [
    {
     "name": "stdout",
     "output_type": "stream",
     "text": [
      "Enter the number or press q to quiet:2\n",
      "Enter the number or press q to quiet:2\n",
      "Enter the number or press q to quiet:2\n",
      "Enter the number or press q to quiet:q\n",
      "Average value is 2.0 and product is 8\n"
     ]
    }
   ],
   "source": [
    "s=0\n",
    "i=0\n",
    "p=1\n",
    "while 1:\n",
    "    n=(input('Enter the number or press q to quiet:'))\n",
    "    if n=='q':\n",
    "        break;\n",
    "    else:\n",
    "        n=int(n)\n",
    "        i=i+1\n",
    "        s=s+n\n",
    "        p=p*n\n",
    "a=s/i\n",
    "print('Average value is {} and product is {}'.format(a,p))"
   ]
  },
  {
   "cell_type": "raw",
   "id": "2f4c6432",
   "metadata": {},
   "source": [
    "8. A three digit number is called Armstrong number if sum of cube of its digit is equal to\n",
    "number itself.\n",
    "E.g.- 153 is an Armstrong number because (1^3)+(5^3)+(3^3) = 153.\n",
    "Write all Armstrong numbers between 100 to 500."
   ]
  },
  {
   "cell_type": "code",
   "execution_count": 16,
   "id": "4e399971",
   "metadata": {},
   "outputs": [
    {
     "name": "stdout",
     "output_type": "stream",
     "text": [
      "153\n",
      "370\n",
      "371\n",
      "407\n"
     ]
    }
   ],
   "source": [
    "for n in range(100,501):\n",
    "    temp=n\n",
    "    s=0\n",
    "    while temp>0:\n",
    "        digit=temp%10\n",
    "        s=s+digit**3\n",
    "        temp=temp//10\n",
    "\n",
    "    if s==n:\n",
    "        print(n)"
   ]
  },
  {
   "cell_type": "raw",
   "id": "29a19d6c",
   "metadata": {},
   "source": [
    "9. Write a program to find the length of the string \"refrigerator\" without\n",
    "using len function."
   ]
  },
  {
   "cell_type": "code",
   "execution_count": 18,
   "id": "6718e19c",
   "metadata": {},
   "outputs": [
    {
     "name": "stdout",
     "output_type": "stream",
     "text": [
      "12\n"
     ]
    }
   ],
   "source": [
    "a='refrigerator'\n",
    "n=0\n",
    "for char in a:\n",
    "    n=n+1\n",
    "print(n)"
   ]
  },
  {
   "cell_type": "raw",
   "id": "51632878",
   "metadata": {},
   "source": [
    "10. Write a program that takes your full name as input and displays the abbreviations of the first and middle names except the last name which is displayed as it is. For example, if your name is Robert Brett Roser, then the output should be R.B.Roser"
   ]
  },
  {
   "cell_type": "code",
   "execution_count": 16,
   "id": "ef6eefd0",
   "metadata": {},
   "outputs": [
    {
     "name": "stdout",
     "output_type": "stream",
     "text": [
      "Enter a name:Robert Brett Roser\n",
      "R B Roser\n"
     ]
    }
   ],
   "source": [
    "name = input(\"Enter a name:\") \n",
    "short = name.split()\n",
    "print(short[0][0],short[1][0],short[2])"
   ]
  }
 ],
 "metadata": {
  "kernelspec": {
   "display_name": "Python 3",
   "language": "python",
   "name": "python3"
  },
  "language_info": {
   "codemirror_mode": {
    "name": "ipython",
    "version": 3
   },
   "file_extension": ".py",
   "mimetype": "text/x-python",
   "name": "python",
   "nbconvert_exporter": "python",
   "pygments_lexer": "ipython3",
   "version": "3.8.8"
  }
 },
 "nbformat": 4,
 "nbformat_minor": 5
}
